{
 "cells": [
  {
   "cell_type": "code",
   "execution_count": null,
   "id": "7f97b178",
   "metadata": {},
   "outputs": [],
   "source": [
    "introduction to dicrionary datatype :"
   ]
  },
  {
   "cell_type": "code",
   "execution_count": null,
   "id": "e4d51e63",
   "metadata": {},
   "outputs": [],
   "source": [
    "definition : A dicrionary is a combination of key value pairs .\n",
    "\n",
    "classification : it is classified as a mutuable datatype \n",
    "    \n",
    "how to define the dictionary .....?=====>{}"
   ]
  },
  {
   "cell_type": "code",
   "execution_count": null,
   "id": "a9397840",
   "metadata": {},
   "outputs": [],
   "source": []
  },
  {
   "cell_type": "code",
   "execution_count": null,
   "id": "0ea8af3d",
   "metadata": {},
   "outputs": [],
   "source": [
    "# req : alien ===> "
   ]
  },
  {
   "cell_type": "code",
   "execution_count": null,
   "id": "90b3a9eb",
   "metadata": {},
   "outputs": [],
   "source": []
  },
  {
   "cell_type": "code",
   "execution_count": 2,
   "id": "fe7ce3a9",
   "metadata": {},
   "outputs": [],
   "source": [
    "alien = {'color':'green','points':5}"
   ]
  },
  {
   "cell_type": "code",
   "execution_count": 3,
   "id": "c2ebe445",
   "metadata": {},
   "outputs": [
    {
     "name": "stdout",
     "output_type": "stream",
     "text": [
      "{'color': 'green', 'points': 5}\n"
     ]
    }
   ],
   "source": [
    "print(alien)"
   ]
  },
  {
   "cell_type": "code",
   "execution_count": null,
   "id": "0d45103e",
   "metadata": {},
   "outputs": [],
   "source": [
    "# req : how to access the key value pairs.\n",
    "\n",
    "# give the key and get the value ...\n",
    "\n",
    "# req : want to know the color of the alien ...?"
   ]
  },
  {
   "cell_type": "code",
   "execution_count": 4,
   "id": "ca087215",
   "metadata": {},
   "outputs": [
    {
     "name": "stdout",
     "output_type": "stream",
     "text": [
      "green\n"
     ]
    }
   ],
   "source": [
    "print(alien['color'])"
   ]
  },
  {
   "cell_type": "code",
   "execution_count": 6,
   "id": "f406d540",
   "metadata": {},
   "outputs": [
    {
     "name": "stdout",
     "output_type": "stream",
     "text": [
      "5\n"
     ]
    }
   ],
   "source": [
    "print(alien['points'])"
   ]
  },
  {
   "cell_type": "code",
   "execution_count": 7,
   "id": "6933025b",
   "metadata": {},
   "outputs": [
    {
     "data": {
      "text/plain": [
       "dict"
      ]
     },
     "execution_count": 7,
     "metadata": {},
     "output_type": "execute_result"
    }
   ],
   "source": [
    "type(alien)"
   ]
  },
  {
   "cell_type": "code",
   "execution_count": null,
   "id": "f4da2108",
   "metadata": {},
   "outputs": [],
   "source": []
  },
  {
   "cell_type": "code",
   "execution_count": null,
   "id": "ac8c51bb",
   "metadata": {},
   "outputs": [],
   "source": [
    "# req : how to add new key value pairs to the dictionary...?"
   ]
  },
  {
   "cell_type": "code",
   "execution_count": 8,
   "id": "9a2293b2",
   "metadata": {},
   "outputs": [],
   "source": [
    "# req : start_position.....> "
   ]
  },
  {
   "cell_type": "code",
   "execution_count": 9,
   "id": "38b55410",
   "metadata": {},
   "outputs": [],
   "source": [
    "alien['start_position']=0"
   ]
  },
  {
   "cell_type": "code",
   "execution_count": 10,
   "id": "4c2ce616",
   "metadata": {},
   "outputs": [
    {
     "name": "stdout",
     "output_type": "stream",
     "text": [
      "{'color': 'green', 'points': 5, 'start_position': 0}\n"
     ]
    }
   ],
   "source": [
    "print(alien)"
   ]
  },
  {
   "cell_type": "code",
   "execution_count": null,
   "id": "41a7a232",
   "metadata": {},
   "outputs": [],
   "source": [
    "# it's not possible to get key by givine the value"
   ]
  },
  {
   "cell_type": "code",
   "execution_count": 11,
   "id": "cbb14936",
   "metadata": {},
   "outputs": [
    {
     "ename": "KeyError",
     "evalue": "5",
     "output_type": "error",
     "traceback": [
      "\u001b[1;31m---------------------------------------------------------------------------\u001b[0m",
      "\u001b[1;31mKeyError\u001b[0m                                  Traceback (most recent call last)",
      "\u001b[1;32m~\\AppData\\Local\\Temp\\ipykernel_29348\\3842542726.py\u001b[0m in \u001b[0;36m<module>\u001b[1;34m\u001b[0m\n\u001b[1;32m----> 1\u001b[1;33m \u001b[0mprint\u001b[0m\u001b[1;33m(\u001b[0m\u001b[0malien\u001b[0m\u001b[1;33m[\u001b[0m\u001b[1;36m5\u001b[0m\u001b[1;33m]\u001b[0m\u001b[1;33m)\u001b[0m\u001b[1;33m\u001b[0m\u001b[1;33m\u001b[0m\u001b[0m\n\u001b[0m",
      "\u001b[1;31mKeyError\u001b[0m: 5"
     ]
    }
   ],
   "source": [
    "print(alien[5])"
   ]
  },
  {
   "cell_type": "code",
   "execution_count": 12,
   "id": "f8098255",
   "metadata": {},
   "outputs": [
    {
     "name": "stdout",
     "output_type": "stream",
     "text": [
      "5\n"
     ]
    }
   ],
   "source": [
    "print(alien['points'])"
   ]
  },
  {
   "cell_type": "code",
   "execution_count": null,
   "id": "8ab2cd7f",
   "metadata": {},
   "outputs": [],
   "source": [
    "# deleting the key and value from dictionary "
   ]
  },
  {
   "cell_type": "code",
   "execution_count": 13,
   "id": "d3ae559d",
   "metadata": {},
   "outputs": [],
   "source": [
    "del alien['start_position']"
   ]
  },
  {
   "cell_type": "code",
   "execution_count": 14,
   "id": "5e80fb9b",
   "metadata": {},
   "outputs": [
    {
     "name": "stdout",
     "output_type": "stream",
     "text": [
      "{'color': 'green', 'points': 5}\n"
     ]
    }
   ],
   "source": [
    "print(alien)"
   ]
  },
  {
   "cell_type": "code",
   "execution_count": 15,
   "id": "4371b0cd",
   "metadata": {},
   "outputs": [],
   "source": [
    "alien['name']='ramesh'"
   ]
  },
  {
   "cell_type": "code",
   "execution_count": 16,
   "id": "40eed395",
   "metadata": {},
   "outputs": [
    {
     "name": "stdout",
     "output_type": "stream",
     "text": [
      "{'color': 'green', 'points': 5, 'name': 'ramesh'}\n"
     ]
    }
   ],
   "source": [
    "print(alien)"
   ]
  },
  {
   "cell_type": "code",
   "execution_count": 17,
   "id": "271a7c7b",
   "metadata": {},
   "outputs": [],
   "source": [
    "del alien['name']"
   ]
  },
  {
   "cell_type": "code",
   "execution_count": 19,
   "id": "c32ba66a",
   "metadata": {},
   "outputs": [
    {
     "name": "stdout",
     "output_type": "stream",
     "text": [
      "{'color': 'green', 'points': 5}\n"
     ]
    }
   ],
   "source": [
    "print(alien)"
   ]
  },
  {
   "cell_type": "code",
   "execution_count": null,
   "id": "b77ea8d5",
   "metadata": {},
   "outputs": [],
   "source": [
    "# creating a user account in facebook....?"
   ]
  },
  {
   "cell_type": "code",
   "execution_count": 22,
   "id": "5365b3cb",
   "metadata": {},
   "outputs": [],
   "source": [
    "details={'name':'ramesh','age':21,'gender':'m'}"
   ]
  },
  {
   "cell_type": "code",
   "execution_count": 25,
   "id": "c7ab30b6",
   "metadata": {},
   "outputs": [
    {
     "name": "stdout",
     "output_type": "stream",
     "text": [
      "ramesh\n"
     ]
    }
   ],
   "source": [
    "print(details['name'])"
   ]
  },
  {
   "cell_type": "code",
   "execution_count": null,
   "id": "038e0f91",
   "metadata": {},
   "outputs": [],
   "source": [
    "for tempvar1 , tempvar2 in mainvar.items():\n",
    "    paint(tempvar1)\n",
    "    print(tempvar2)"
   ]
  },
  {
   "cell_type": "code",
   "execution_count": null,
   "id": "6b1d23ff",
   "metadata": {},
   "outputs": [],
   "source": []
  },
  {
   "cell_type": "code",
   "execution_count": 28,
   "id": "93e2d175",
   "metadata": {},
   "outputs": [
    {
     "name": "stdout",
     "output_type": "stream",
     "text": [
      "name\n",
      "ramesh\n",
      "age\n",
      "21\n",
      "gender\n",
      "m\n"
     ]
    }
   ],
   "source": [
    "for x,y in details.items():\n",
    "    print(x)\n",
    "    print(y)"
   ]
  },
  {
   "cell_type": "code",
   "execution_count": 29,
   "id": "d09f9108",
   "metadata": {},
   "outputs": [
    {
     "name": "stdout",
     "output_type": "stream",
     "text": [
      "name\n",
      "age\n",
      "gender\n"
     ]
    }
   ],
   "source": [
    "for x,y in details.items():\n",
    "    print(x)"
   ]
  },
  {
   "cell_type": "code",
   "execution_count": 32,
   "id": "7ce357c4",
   "metadata": {},
   "outputs": [
    {
     "name": "stdout",
     "output_type": "stream",
     "text": [
      "ramesh\n",
      "21\n",
      "m\n"
     ]
    }
   ],
   "source": [
    "for x,y in details.items():\n",
    "    print(y)"
   ]
  },
  {
   "cell_type": "code",
   "execution_count": 45,
   "id": "dcef02bd",
   "metadata": {},
   "outputs": [
    {
     "name": "stdout",
     "output_type": "stream",
     "text": [
      "name : ramesh\n",
      "\n",
      "\n",
      "age : 21\n",
      "\n",
      "\n",
      "gender : m\n",
      "\n",
      "\n"
     ]
    }
   ],
   "source": [
    "for x,y in details.items():\n",
    "    print(x,':',y)\n",
    "    print(\"\\n\")"
   ]
  },
  {
   "cell_type": "code",
   "execution_count": 46,
   "id": "362bc1e4",
   "metadata": {},
   "outputs": [
    {
     "ename": "AttributeError",
     "evalue": "'dict' object has no attribute 'key'",
     "output_type": "error",
     "traceback": [
      "\u001b[1;31m---------------------------------------------------------------------------\u001b[0m",
      "\u001b[1;31mAttributeError\u001b[0m                            Traceback (most recent call last)",
      "\u001b[1;32m~\\AppData\\Local\\Temp\\ipykernel_29348\\1391992946.py\u001b[0m in \u001b[0;36m<module>\u001b[1;34m\u001b[0m\n\u001b[1;32m----> 1\u001b[1;33m \u001b[1;32mfor\u001b[0m \u001b[0mx\u001b[0m \u001b[1;32min\u001b[0m \u001b[0mdetails\u001b[0m\u001b[1;33m.\u001b[0m\u001b[0mkey\u001b[0m\u001b[1;33m(\u001b[0m\u001b[1;33m)\u001b[0m\u001b[1;33m:\u001b[0m\u001b[1;33m\u001b[0m\u001b[1;33m\u001b[0m\u001b[0m\n\u001b[0m\u001b[0;32m      2\u001b[0m     \u001b[0mprint\u001b[0m\u001b[1;33m(\u001b[0m\u001b[0mx\u001b[0m\u001b[1;33m)\u001b[0m\u001b[1;33m\u001b[0m\u001b[1;33m\u001b[0m\u001b[0m\n",
      "\u001b[1;31mAttributeError\u001b[0m: 'dict' object has no attribute 'key'"
     ]
    }
   ],
   "source": [
    "for x in details.values():\n",
    "    print(x)"
   ]
  },
  {
   "cell_type": "code",
   "execution_count": null,
   "id": "a9057bc4",
   "metadata": {},
   "outputs": [],
   "source": []
  }
 ],
 "metadata": {
  "kernelspec": {
   "display_name": "Python 3 (ipykernel)",
   "language": "python",
   "name": "python3"
  },
  "language_info": {
   "codemirror_mode": {
    "name": "ipython",
    "version": 3
   },
   "file_extension": ".py",
   "mimetype": "text/x-python",
   "name": "python",
   "nbconvert_exporter": "python",
   "pygments_lexer": "ipython3",
   "version": "3.9.13"
  }
 },
 "nbformat": 4,
 "nbformat_minor": 5
}
